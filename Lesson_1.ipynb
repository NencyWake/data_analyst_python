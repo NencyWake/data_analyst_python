{
 "cells": [
  {
   "cell_type": "markdown",
   "id": "67294c6e",
   "metadata": {},
   "source": [
    "## Задине\n",
    "Используя встроенные инструменты Python проанализировать таблицу из файла \"Vacancy.csv\"\n",
    "### Ответить на вопросы:  \n",
    "- Сколько вакансий, которые вам нравятся?\n",
    "- За какие периоды эти вакансии?\n",
    "- Сколько вакансий с такими позициями, на которых вы работаете?\n",
    "- Сколько вакансий для аналитика данных?\n",
    "- Сколько вакансий для аналитика данных с использованием Python?\n",
    "\n",
    "### В задании важно не использовать pandas и numpy, а встроенные инструменты python\n",
    "- Counter, CSV, defaultdict, sorted"
   ]
  },
  {
   "cell_type": "markdown",
   "id": "d3ce9424",
   "metadata": {},
   "source": [
    "Устанавливаем wget для загрузки файла"
   ]
  },
  {
   "cell_type": "code",
   "execution_count": 1,
   "id": "b6b30d72",
   "metadata": {},
   "outputs": [],
   "source": [
    "!pip install wget"
   ]
  },
  {
   "cell_type": "markdown",
   "id": "f3e3cfdb",
   "metadata": {},
   "source": [
    "Устанавливаем необходимые библиотеки"
   ]
  },
  {
   "cell_type": "code",
   "execution_count": 1,
   "id": "6e97dc81",
   "metadata": {},
   "outputs": [],
   "source": [
    "import csv\n",
    "import sys\n",
    "from collections import Counter, defaultdict"
   ]
  },
  {
   "cell_type": "markdown",
   "id": "a38d7c25",
   "metadata": {},
   "source": [
    "Работаем с архивом"
   ]
  },
  {
   "cell_type": "code",
   "execution_count": 4,
   "id": "f57aa61d",
   "metadata": {
    "scrolled": true
   },
   "outputs": [],
   "source": [
    "#Закачиваем архив\n",
    "!wget https://raw.githubusercontent.com/da-python/python-for-data-analytics/main/Lesson1/hometask/vacancy.csv.zip\n",
    "#Распаковываем архив\n",
    "!unzip vacancy.csv.zip"
   ]
  },
  {
   "cell_type": "markdown",
   "id": "1d754cc8",
   "metadata": {},
   "source": [
    "Создаем список словарей"
   ]
  },
  {
   "cell_type": "code",
   "execution_count": 3,
   "id": "568ca6a6",
   "metadata": {},
   "outputs": [],
   "source": [
    "file_path = 'vacancy.csv'\n",
    "vacs = list(csv.DictReader(open(file_path)))"
   ]
  },
  {
   "cell_type": "markdown",
   "id": "5dedd04c",
   "metadata": {},
   "source": [
    "**Сколько вакансий, которые вам нравятся?**"
   ]
  },
  {
   "cell_type": "code",
   "execution_count": 6,
   "id": "0a4d0bc5",
   "metadata": {
    "scrolled": false
   },
   "outputs": [
    {
     "name": "stdout",
     "output_type": "stream",
     "text": [
      "Менеджер\n"
     ]
    }
   ],
   "source": [
    "# запрашиваем профессию\n",
    "vacancy = input().lower()"
   ]
  },
  {
   "cell_type": "code",
   "execution_count": 7,
   "id": "49fbc828",
   "metadata": {},
   "outputs": [
    {
     "name": "stdout",
     "output_type": "stream",
     "text": [
      "1090\n"
     ]
    }
   ],
   "source": [
    "# подсчитываем вакансии\n",
    "vacancies = [i['vactitle'] for i in vacs if vacancy in i['vactitle'].lower()]\n",
    "print(len(vacancies))\n"
   ]
  },
  {
   "cell_type": "markdown",
   "id": "066a4fe4",
   "metadata": {},
   "source": [
    "**За какие периоды эти вакансии?**"
   ]
  },
  {
   "cell_type": "code",
   "execution_count": 11,
   "id": "3344a148",
   "metadata": {},
   "outputs": [
    {
     "name": "stdout",
     "output_type": "stream",
     "text": [
      "2020-10-20 - 2021-03-17\n"
     ]
    }
   ],
   "source": [
    "# подсчитываем диапазон для переменной vacancy\n",
    "vacancy_date = [i['vacdate'] for i in vacs if vacancy in i['vactitle'].lower()]\n",
    "print(min(vacancy_date),'-', max(vacancy_date))"
   ]
  },
  {
   "cell_type": "markdown",
   "id": "7d3b99cb",
   "metadata": {},
   "source": [
    "**Сколько вакансий с такими позициями, на которых вы работаете?**"
   ]
  },
  {
   "cell_type": "code",
   "execution_count": 16,
   "id": "691c7e75",
   "metadata": {},
   "outputs": [
    {
     "data": {
      "text/plain": [
       "3"
      ]
     },
     "execution_count": 16,
     "metadata": {},
     "output_type": "execute_result"
    }
   ],
   "source": [
    "# операционный менеджер\n",
    "len([i['vactitle'] for i in vacs if 'операционный менеджер'== i['vactitle'].lower()])"
   ]
  },
  {
   "cell_type": "markdown",
   "id": "4eb279c9",
   "metadata": {},
   "source": [
    "**Сколько вакансий для аналитика данных?**"
   ]
  },
  {
   "cell_type": "code",
   "execution_count": 17,
   "id": "bea4c02f",
   "metadata": {},
   "outputs": [
    {
     "data": {
      "text/plain": [
       "5"
      ]
     },
     "execution_count": 17,
     "metadata": {},
     "output_type": "execute_result"
    }
   ],
   "source": [
    "# точное вхождение\n",
    "len([i['vactitle'] for i in vacs if 'аналитик данных'== i['vactitle'].lower()])"
   ]
  },
  {
   "cell_type": "code",
   "execution_count": 19,
   "id": "6452133a",
   "metadata": {},
   "outputs": [
    {
     "data": {
      "text/plain": [
       "21"
      ]
     },
     "execution_count": 19,
     "metadata": {},
     "output_type": "execute_result"
    }
   ],
   "source": [
    "# содержит в себе \n",
    "len([i['vactitle'] for i in vacs if 'аналитик данных'in i['vactitle'].lower()])"
   ]
  },
  {
   "cell_type": "markdown",
   "id": "7c5e6844",
   "metadata": {},
   "source": [
    "**Сколько вакансий для аналитика данных с использованием Python?**"
   ]
  },
  {
   "cell_type": "code",
   "execution_count": 34,
   "id": "39ed8f68",
   "metadata": {},
   "outputs": [
    {
     "data": {
      "text/plain": [
       "0"
      ]
     },
     "execution_count": 34,
     "metadata": {},
     "output_type": "execute_result"
    }
   ],
   "source": [
    "# содержит в себе \n",
    "len([i['vactitle'] for i in vacs \n",
    "     if 'аналитик данных' in i['vactitle'].lower() \n",
    "     if 'python' in i['vactitle'].lower()])"
   ]
  },
  {
   "cell_type": "code",
   "execution_count": null,
   "id": "d77c11eb",
   "metadata": {},
   "outputs": [],
   "source": []
  }
 ],
 "metadata": {
  "kernelspec": {
   "display_name": "Python 3 (ipykernel)",
   "language": "python",
   "name": "python3"
  },
  "language_info": {
   "codemirror_mode": {
    "name": "ipython",
    "version": 3
   },
   "file_extension": ".py",
   "mimetype": "text/x-python",
   "name": "python",
   "nbconvert_exporter": "python",
   "pygments_lexer": "ipython3",
   "version": "3.8.10"
  }
 },
 "nbformat": 4,
 "nbformat_minor": 5
}
